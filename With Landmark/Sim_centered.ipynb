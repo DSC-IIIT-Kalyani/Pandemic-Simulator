{
  "nbformat": 4,
  "nbformat_minor": 0,
  "metadata": {
    "colab": {
      "name": "Sim_centered.ipynb",
      "provenance": [],
      "collapsed_sections": [],
      "authorship_tag": "ABX9TyOaMJKueZwJRXjm0/4r+/lc",
      "include_colab_link": true
    },
    "kernelspec": {
      "name": "python3",
      "display_name": "Python 3"
    },
    "accelerator": "TPU"
  },
  "cells": [
    {
      "cell_type": "markdown",
      "metadata": {
        "id": "view-in-github",
        "colab_type": "text"
      },
      "source": [
        "<a href=\"https://colab.research.google.com/github/Siddhant-K-code/Pandemic-Simulator/blob/master/Sim_centered.ipynb\" target=\"_parent\"><img src=\"https://colab.research.google.com/assets/colab-badge.svg\" alt=\"Open In Colab\"/></a>"
      ]
    },
    {
      "cell_type": "code",
      "metadata": {
        "id": "CXlwPiNma5oZ"
      },
      "source": [
        "import pandas as pd\r\n",
        "import matplotlib.pyplot as plt\r\n",
        "import numpy as np\r\n",
        "import random"
      ],
      "execution_count": null,
      "outputs": []
    },
    {
      "cell_type": "code",
      "metadata": {
        "colab": {
          "base_uri": "https://localhost:8080/",
          "height": 37
        },
        "id": "oKs9wDg9dyaf",
        "outputId": "d575f796-6889-437d-80a5-f2086dad6960"
      },
      "source": [
        "''' from google.colab import files\r\n",
        "uploaded = files.upload() # Upload plot1.txt file\r\n",
        " '''"
      ],
      "execution_count": null,
      "outputs": [
        {
          "output_type": "execute_result",
          "data": {
            "application/vnd.google.colaboratory.intrinsic+json": {
              "type": "string"
            },
            "text/plain": [
              "' from google.colab import files\\nuploaded = files.upload() # Upload plot1.txt file\\n '"
            ]
          },
          "metadata": {
            "tags": []
          },
          "execution_count": 3
        }
      ]
    },
    {
      "cell_type": "code",
      "metadata": {
        "id": "p1D0ze_LbDvW"
      },
      "source": [
        "spread_limit = 10\r\n",
        "recovery_prob = 0.70\r\n",
        "intial_count = 10\r\n",
        "infection_rate = 0.5\r\n",
        "population = 1000"
      ],
      "execution_count": null,
      "outputs": []
    },
    {
      "cell_type": "code",
      "metadata": {
        "id": "ug-ouQKzbIRb"
      },
      "source": [
        "landmark = [(50,50),(10,10),(90,90)]\r\n",
        "landmark_prob = 0.1\r\n",
        "landmark_prob_dec_rate = 0.8\r\n",
        "landmark_prob_values = []"
      ],
      "execution_count": null,
      "outputs": []
    },
    {
      "cell_type": "code",
      "metadata": {
        "id": "bWdy5kgCbJJk"
      },
      "source": [
        "def initialize():\r\n",
        "    global infected_count,dead_count,recovered_count,infected,pos,infected_count_arr,dead_count_arr,recovered_count_arr,non_infected_count_arr \r\n",
        "    pos = pd.DataFrame()\r\n",
        "    pos['x'] =[]\r\n",
        "    pos['y'] =[]\r\n",
        "\r\n",
        "    infected = pd.DataFrame()\r\n",
        "    infected['x'] = []\r\n",
        "    infected['y'] = []\r\n",
        "    infected['time'] = []\r\n",
        "\r\n",
        "    infected_count = intial_count\r\n",
        "    dead_count = 0\r\n",
        "    recovered_count = 0\r\n",
        "\r\n",
        "\r\n",
        "    infected_count_arr = []\r\n",
        "    dead_count_arr = []\r\n",
        "    recovered_count_arr = []\r\n",
        "    non_infected_count_arr = []\r\n",
        "    landmark_prob_values = []\r\n",
        "\r\n",
        "    for i in range(population):\r\n",
        "        pos.loc[i]=[random.randint(0, population/10),random.randint(0, population/10)]\r\n",
        "\r\n",
        "\r\n",
        "    for i in range(10):\r\n",
        "        infected.loc[i]= [pos['x'][i],pos['y'][i],1]\r\n",
        "\r\n",
        "    pos = pos.iloc[10:]\r\n",
        "    pos = pos.reset_index(drop=True)"
      ],
      "execution_count": null,
      "outputs": []
    },
    {
      "cell_type": "code",
      "metadata": {
        "id": "5zuf2Dd_bOFU"
      },
      "source": [
        "def distance(pos1,pos2):\r\n",
        "    return ((infected['x'][pos2]-pos['x'][pos1])**2)+((infected['y'][pos2]-pos['y'][pos1])**2)"
      ],
      "execution_count": null,
      "outputs": []
    },
    {
      "cell_type": "code",
      "metadata": {
        "id": "RWYfhlu-bQcc"
      },
      "source": [
        "def infected_check():\r\n",
        "    return (random.random()<infection_rate)"
      ],
      "execution_count": null,
      "outputs": []
    },
    {
      "cell_type": "code",
      "metadata": {
        "id": "_5LxGnnBbSwP"
      },
      "source": [
        "def move_around():\r\n",
        "    global landmark_prob,landmark_prob_values\r\n",
        "    for i in range(len(pos['x'])):\r\n",
        "        if(random.random()<landmark_prob):\r\n",
        "            x,y = landmark[random.randint(0, len(landmark)-1)]\r\n",
        "            pos.loc[i]=[x,y]\r\n",
        "        else:     \r\n",
        "            pos.loc[i]=[random.randint(0, population/10),random.randint(0, population/10)]\r\n",
        "    landmark_prob = landmark_prob* landmark_prob_dec_rate\r\n",
        "    landmark_prob_values.append(landmark_prob)"
      ],
      "execution_count": null,
      "outputs": []
    },
    {
      "cell_type": "code",
      "metadata": {
        "id": "zCQTrjDUbVlo"
      },
      "source": [
        "def day():\r\n",
        "    global infected_count,dead_count,recovered_count,infected,pos #getting global data\r\n",
        "    infected_count_arr.append(infected_count)\r\n",
        "    non_infected_count_arr.append(len(pos['x']))\r\n",
        "    dead_count_arr.append(dead_count)\r\n",
        "    recovered_count_arr.append(recovered_count)\r\n",
        "    # increase infected time and remove necessary\r\n",
        "    for i in range(len(infected['time'])):\r\n",
        "        infected['time'][i]= infected['time'][i] +1\r\n",
        "        if (infected['time'][i]>3):\r\n",
        "            infected = infected.drop(i)\r\n",
        "            removed()\r\n",
        "    # set new loction for all not infected\r\n",
        "    infected = infected.reset_index(drop=True)\r\n",
        "    infected_count = len(infected['time'])  \r\n",
        "    i = 0\r\n",
        "    move_around()\r\n",
        "    i = 0\r\n",
        "    move_around()\r\n",
        "    to_drop = []\r\n",
        "    while(i < len(pos['x'])):\r\n",
        "        for j in range(infected_count):\r\n",
        "            if(i>=len(pos['x'])):\r\n",
        "                break\r\n",
        "            if(distance(i,j)< spread_limit):\r\n",
        "                if(infected_check()):\r\n",
        "                    infected.loc[infected_count]= [pos['x'][i],pos['y'][i],1]\r\n",
        "                    infected_count = infected_count + 1  \r\n",
        "                    to_drop.append(i)      \r\n",
        "        i = i +1     \r\n",
        "    pos = pos.drop(to_drop)\r\n",
        "    pos = pos.reset_index(drop=True) "
      ],
      "execution_count": null,
      "outputs": []
    },
    {
      "cell_type": "code",
      "metadata": {
        "id": "IQagqM1obY1B"
      },
      "source": [
        "def removed():\r\n",
        "    if(random.random()<recovery_prob):\r\n",
        "        global recovered_count\r\n",
        "        recovered_count = recovered_count + 1\r\n",
        "    else :\r\n",
        "        global dead_count\r\n",
        "        dead_count = dead_count + 1"
      ],
      "execution_count": null,
      "outputs": []
    },
    {
      "cell_type": "code",
      "metadata": {
        "id": "ZTw5gJsdbb5P"
      },
      "source": [
        "def day_call():\r\n",
        "    initialize()\r\n",
        "    while(infected_count != 0 ):\r\n",
        "        day()"
      ],
      "execution_count": null,
      "outputs": []
    },
    {
      "cell_type": "markdown",
      "metadata": {
        "id": "uOf9TsI8bml4"
      },
      "source": [
        "# Get plot an data for a virtual environment of a given parameter"
      ]
    },
    {
      "cell_type": "code",
      "metadata": {
        "colab": {
          "base_uri": "https://localhost:8080/",
          "height": 269
        },
        "id": "qYA1ORWHbeH7",
        "outputId": "b73e2ea3-9ddd-4017-8a30-172a3cb4d047"
      },
      "source": [
        "day_call()\r\n",
        "\r\n",
        "name = \"plot 1\"\r\n",
        "my_file = open(name + \".txt\",\"w\")\r\n",
        "txt = \"There are landmark(market,theatre,religious centres).If an infected person goes there the chances of spread increases to a great extend.The probability of visiting the landmark decreases with time,as people realize the danger. \\n\\n\"\r\n",
        "txt = txt +\"Parameters:\\n spread_limit = {}\\n recovery_prob = {}\\n intial_count = {}\\n infection_rate = {}\\n \".format(spread_limit,recovery_prob,intial_count,infection_rate)\r\n",
        "txt = txt + \"population = {}\\n landmark = {}\\n  landmark_prob = {}\\n landmark_prob_dec_rate = {}\\n \".format(population,landmark,landmark_prob,landmark_prob_dec_rate,)\r\n",
        "my_file.write(txt)\r\n",
        "\r\n",
        "fig = plt.figure(figsize=(len(dead_count_arr), 5))\r\n",
        "ax = fig.add_subplot(111)\r\n",
        "ax.plot(dead_count_arr,color='blue')\r\n",
        "ax.plot(non_infected_count_arr,color='orange' )\r\n",
        "ax.plot(infected_count_arr,color='red' )\r\n",
        "ax.plot(recovered_count_arr,color='green')\r\n",
        "\r\n",
        "plt.gca().legend(['Dead', 'non infected','infected', 'recovered'], loc='best')\r\n",
        "plt.xlabel(\"Days\")\r\n",
        "plt.ylabel(\"No. of people\")\r\n",
        "plt.savefig(name+ \".pdf\")\r\n",
        "# ax.show()"
      ],
      "execution_count": null,
      "outputs": [
        {
          "output_type": "display_data",
          "data": {
            "image/png": "[encoded data removed]",
            "text/plain": [
              "<Figure size 1296x360 with 1 Axes>"
            ]
          },
          "metadata": {
            "tags": [],
            "needs_background": "light"
          }
        }
      ]
    },
    {
      "cell_type": "markdown",
      "metadata": {
        "id": "UhhFU-_DdBBq"
      },
      "source": [
        "# Change in total involved,safe,and days taken with change in spread_limit"
      ]
    },
    {
      "cell_type": "code",
      "metadata": {
        "id": "h7H7-UHdbiou"
      },
      "source": [
        "total_involed = []\r\n",
        "total_safe = []\r\n",
        "days = []\r\n",
        "spread_limit_values = []\r\n",
        "def spread_limit_change():\r\n",
        "    global spread_limit\r\n",
        "    spread_limit = 1\r\n",
        "    for i in range(16):    \r\n",
        "        day_call()\r\n",
        "        total_involed.append(recovered_count + dead_count)\r\n",
        "        total_safe.append(population - recovered_count - dead_count)\r\n",
        "        days.append(len(recovered_count_arr))\r\n",
        "        spread_limit_values.append(spread_limit)\r\n",
        "        spread_limit = spread_limit + 1\r\n",
        "    \r\n",
        "spread_limit_change()\r\n",
        "\r\n",
        "txt=\"PEOPLE SPREAD_LIMIT_VARIABLE(1,16)  recovery_prob = {} intial_count = {} infection_rate = {} \".format(recovery_prob,intial_count,infection_rate)\r\n",
        "plt.plot(spread_limit_values,total_involed ,color='blue')\r\n",
        "plt.plot(spread_limit_values,total_safe,color='orange' )\r\n",
        "plt.xlabel(\"SPREAD_LIMIT_VALUE\")\r\n",
        "plt.ylabel(\"No. of people\")\r\n",
        "plt.legend(['total_involed', 'total_safe'], loc='best')\r\n",
        "plt.title( txt)\r\n",
        "plt.savefig(txt+ \".pdf\")\r\n",
        "plt.show()\r\n",
        "\r\n",
        "txt=\"DAYS SPREAD_LIMIT_VARIABLE(1,16)  recovery_prob = {} intial_count = {} infection_rate = {} \".format(recovery_prob,intial_count,infection_rate)\r\n",
        "plt.plot(spread_limit_values,days)\r\n",
        "plt.xlabel(\"SPREAD_LIMIT_VALUE\")\r\n",
        "plt.ylabel(\"Days\")\r\n",
        "plt.title( txt)\r\n",
        "plt.savefig(txt+ \".pdf\")\r\n",
        "plt.show()"
      ],
      "execution_count": null,
      "outputs": []
    },
    {
      "cell_type": "markdown",
      "metadata": {
        "id": "zoy33wPWdOGe"
      },
      "source": [
        "# Change in total involved,safe,and days taken with change in intial_count"
      ]
    },
    {
      "cell_type": "code",
      "metadata": {
        "id": "lw0eg5FtdNzn"
      },
      "source": [
        "total_involed = []\r\n",
        "total_safe = []\r\n",
        "days = []\r\n",
        "intial_count_values = []\r\n",
        "def intial_count_change():\r\n",
        "    global intial_count\r\n",
        "    intial_count = 10\r\n",
        "    for i in range(16):    \r\n",
        "        day_call()\r\n",
        "        total_involed.append(recovered_count + dead_count)\r\n",
        "        total_safe.append(population - recovered_count - dead_count)\r\n",
        "        days.append(len(recovered_count_arr))\r\n",
        "        intial_count_values.append(intial_count)\r\n",
        "        intial_count = intial_count + 1\r\n",
        "    \r\n",
        "intial_count_change()\r\n",
        "\r\n",
        "txt=\"PEOPLE INITIAL_COUNT_VARIABLE(10,25,step = 1)  recovery_prob = {} intial_count = {} infection_rate = {} \".format(recovery_prob,intial_count,infection_rate)\r\n",
        "plt.plot(intial_count_values,total_involed ,color='blue')\r\n",
        "plt.plot(intial_count_values,total_safe,color='orange' )\r\n",
        "plt.xlabel(\"INITIAL_COUNT_VALUE\")\r\n",
        "plt.ylabel(\"No. of people\")\r\n",
        "plt.legend(['total_involed', 'total_safe'], loc='best')\r\n",
        "plt.title( \"Description in file name\")\r\n",
        "plt.savefig(txt+ \".pdf\")\r\n",
        "plt.show()\r\n",
        "\r\n",
        "txt=\"DAYS INITIAL_COUNT_VARIABLE(10,40,step = 1)  recovery_prob = {} intial_count = {} infection_rate = {} \".format(recovery_prob,intial_count,infection_rate)\r\n",
        "plt.plot(intial_count_values,days)\r\n",
        "plt.xlabel(\"INITIAL_COUNT_VALUE\")\r\n",
        "plt.ylabel(\"Days\")\r\n",
        "plt.title( \"Description in file name\")\r\n",
        "plt.savefig(txt+ \".pdf\")\r\n",
        "plt.show()"
      ],
      "execution_count": null,
      "outputs": []
    },
    {
      "cell_type": "markdown",
      "metadata": {
        "id": "30unGKZZdZBd"
      },
      "source": [
        "# Change in total involved,safe,and days taken with change in infection_rate"
      ]
    },
    {
      "cell_type": "code",
      "metadata": {
        "id": "jBnZrg0edIc1"
      },
      "source": [
        "total_involed = []\r\n",
        "total_safe = []\r\n",
        "days = []\r\n",
        "infection_rate_values = []\r\n",
        "def infection_rate_change():\r\n",
        "    global infection_rate\r\n",
        "    infection_rate = 0.10\r\n",
        "    for i in range(18):    \r\n",
        "        day_call()\r\n",
        "        total_involed.append(recovered_count + dead_count)\r\n",
        "        total_safe.append(population - recovered_count - dead_count)\r\n",
        "        days.append(len(recovered_count_arr))\r\n",
        "        infection_rate_values.append(infection_rate)\r\n",
        "        infection_rate = infection_rate + 0.05\r\n",
        "    \r\n",
        "infection_rate_change()\r\n",
        "\r\n",
        "txt=\"PEOPLE INFECTION_RATE_VARIABLE(0.1,1,step =.05)  recovery_prob = {} intial_count = {} spread_limit = {} \".format(recovery_prob,intial_count,spread_limit)\r\n",
        "plt.plot(infection_rate_values,total_involed ,color='blue')\r\n",
        "plt.plot(infection_rate_values,total_safe,color='orange' )\r\n",
        "plt.xlabel(\"INFECTION_RATE_VALUE\")\r\n",
        "plt.ylabel(\"No. of people\")\r\n",
        "plt.legend(['total_involed', 'total_safe'], loc='best')\r\n",
        "plt.title( \"Description in file name\")\r\n",
        "plt.savefig(txt+ \".pdf\")\r\n",
        "plt.show()\r\n",
        "\r\n",
        "txt=\"DAYS INFECTION_RATE_VARIABLE(0.1,1,step =.05) recovery_prob = {} intial_count = {} spread_limit = {} \".format(recovery_prob,intial_count,spread_limit)\r\n",
        "plt.plot(infection_rate_values,days)\r\n",
        "plt.xlabel(\"INFECTION_RATE_VALUE\")\r\n",
        "plt.ylabel(\"Days\")\r\n",
        "plt.title( \"Description in file name\")\r\n",
        "plt.savefig(txt+ \".pdf\")\r\n",
        "plt.show()"
      ],
      "execution_count": null,
      "outputs": []
    }
  ]
}